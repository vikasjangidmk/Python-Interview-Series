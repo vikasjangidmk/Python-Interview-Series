{
 "cells": [
  {
   "cell_type": "markdown",
   "metadata": {},
   "source": [
    "# **Day 1 Python Interview Series**"
   ]
  },
  {
   "cell_type": "markdown",
   "metadata": {},
   "source": [
    "## Q(1.) Write a Python program to check if a string is a palindrome."
   ]
  },
  {
   "cell_type": "code",
   "execution_count": 1,
   "metadata": {},
   "outputs": [
    {
     "data": {
      "text/plain": [
       "True"
      ]
     },
     "execution_count": 1,
     "metadata": {},
     "output_type": "execute_result"
    }
   ],
   "source": [
    "word = \"madam\"\n",
    "reversed = word[::-1]\n",
    "word==reversed"
   ]
  },
  {
   "cell_type": "code",
   "execution_count": 2,
   "metadata": {},
   "outputs": [
    {
     "name": "stdout",
     "output_type": "stream",
     "text": [
      "This is Palindrome word\n"
     ]
    }
   ],
   "source": [
    "def is_palindrome(word):\n",
    "    reversed = word[::-1]\n",
    "    return word == reversed\n",
    "\n",
    "word = \"madam\"\n",
    "if is_palindrome(word):\n",
    "    print(\"This is Palindrome word\")\n",
    "else:\n",
    "    print(\"This is not a palindrome word\")"
   ]
  },
  {
   "cell_type": "code",
   "execution_count": 3,
   "metadata": {},
   "outputs": [
    {
     "name": "stdout",
     "output_type": "stream",
     "text": [
      "This is Palindrome word\n"
     ]
    }
   ],
   "source": [
    "def is_palindrome(word):\n",
    "    reversed = word[::-1]\n",
    "    return word == reversed\n",
    "\n",
    "word = input(\"Enter a value to check palindrome\")\n",
    "if is_palindrome(word):\n",
    "    print(\"This is Palindrome word\")\n",
    "else:\n",
    "    print(\"This is not a palindrome word\")"
   ]
  },
  {
   "cell_type": "markdown",
   "metadata": {},
   "source": [
    "## Q(2.) Write a Python program to find the factorial of a number."
   ]
  },
  {
   "cell_type": "code",
   "execution_count": 4,
   "metadata": {},
   "outputs": [],
   "source": [
    "# example\n",
    "# 5! = 5*4*3*2*1 = 120"
   ]
  },
  {
   "cell_type": "code",
   "execution_count": 5,
   "metadata": {},
   "outputs": [
    {
     "name": "stdout",
     "output_type": "stream",
     "text": [
      "1\n",
      "2\n",
      "6\n",
      "24\n",
      "120\n"
     ]
    }
   ],
   "source": [
    "n = 5\n",
    "result = 1\n",
    "for i in range(1,n+1):\n",
    "    result *= i\n",
    "    print(result)"
   ]
  },
  {
   "cell_type": "code",
   "execution_count": 6,
   "metadata": {},
   "outputs": [
    {
     "name": "stdout",
     "output_type": "stream",
     "text": [
      "120\n"
     ]
    }
   ],
   "source": [
    "n = 5\n",
    "result = 1\n",
    "for i in range(1,n+1):\n",
    "    result *= i\n",
    "print(result)"
   ]
  },
  {
   "cell_type": "code",
   "execution_count": 7,
   "metadata": {},
   "outputs": [
    {
     "name": "stdout",
     "output_type": "stream",
     "text": [
      "120\n"
     ]
    }
   ],
   "source": [
    "n = int(input(\"Enter a number to find Factorial\"))\n",
    "result = 1\n",
    "for i in range(1,n+1):\n",
    "    result *= i\n",
    "print(result)"
   ]
  },
  {
   "cell_type": "code",
   "execution_count": 8,
   "metadata": {},
   "outputs": [
    {
     "data": {
      "text/plain": [
       "120"
      ]
     },
     "execution_count": 8,
     "metadata": {},
     "output_type": "execute_result"
    }
   ],
   "source": [
    "def factorial(n):\n",
    "    result = 1\n",
    "    for i in range (1,n+1):\n",
    "        result = result * i\n",
    "    return result\n",
    "\n",
    "n = 5\n",
    "factorial(n)"
   ]
  },
  {
   "cell_type": "markdown",
   "metadata": {},
   "source": [
    "## Q(3.) Write a Python program to find the largest element in a list."
   ]
  },
  {
   "cell_type": "code",
   "execution_count": 9,
   "metadata": {},
   "outputs": [
    {
     "data": {
      "text/plain": [
       "10"
      ]
     },
     "execution_count": 9,
     "metadata": {},
     "output_type": "execute_result"
    }
   ],
   "source": [
    "num = [10,5,8,2,3]\n",
    "\n",
    "def find_largest(number):\n",
    "    return max(number)\n",
    "\n",
    "find_largest(num)"
   ]
  },
  {
   "cell_type": "code",
   "execution_count": 10,
   "metadata": {},
   "outputs": [
    {
     "data": {
      "text/plain": [
       "18"
      ]
     },
     "execution_count": 10,
     "metadata": {},
     "output_type": "execute_result"
    }
   ],
   "source": [
    "nums = [10,15,18,2,3]\n",
    "\n",
    "def find_largest(number):\n",
    "    largest = number[0]\n",
    "    for num in nums:\n",
    "        if num > largest:\n",
    "            largest = num\n",
    "    return largest\n",
    "\n",
    "find_largest(nums)"
   ]
  },
  {
   "cell_type": "code",
   "execution_count": 11,
   "metadata": {},
   "outputs": [
    {
     "name": "stdout",
     "output_type": "stream",
     "text": [
      "The list of numbers is: [11, 11, 11, 22, 22]\n",
      "The largest number in the nums 22\n"
     ]
    }
   ],
   "source": [
    "# Prompt the user to enter multiple numbers separated by spaces\n",
    "user_input = input(\"Enter multiple numbers separated by spaces: \")\n",
    "\n",
    "# Split the input into individual strings\n",
    "nums = []\n",
    "for x in user_input.split():\n",
    "    nums.append(int(x))  # Convert each string to an integer and append to the list\n",
    "\n",
    "print(\"The list of numbers is:\", nums)\n",
    "\n",
    "def find_largest(number):\n",
    "    largest = number[0]\n",
    "    for num in nums:\n",
    "        if num > largest:\n",
    "            largest = num\n",
    "    return largest\n",
    "\n",
    "print(\"The largest number in the nums\",find_largest(nums))\n"
   ]
  },
  {
   "cell_type": "markdown",
   "metadata": {},
   "source": [
    "## Q(4.) Write a Python program to reverse a string."
   ]
  },
  {
   "cell_type": "code",
   "execution_count": 12,
   "metadata": {},
   "outputs": [
    {
     "name": "stdout",
     "output_type": "stream",
     "text": [
      "Reversed String is :  madam\n"
     ]
    }
   ],
   "source": [
    "def reverse_string(word):\n",
    "    return word[::-1]\n",
    "\n",
    "word = input(\"Enter any String \")\n",
    "print(\"Reversed String is : \",reverse_string(word))"
   ]
  },
  {
   "cell_type": "code",
   "execution_count": 13,
   "metadata": {},
   "outputs": [
    {
     "name": "stdout",
     "output_type": "stream",
     "text": [
      "Reversed String is :  madam\n"
     ]
    }
   ],
   "source": [
    "def reverse_string(word):\n",
    "    reverse =  word[::-1]\n",
    "    return reverse\n",
    "\n",
    "word = input(\"Enter any String \")\n",
    "print(\"Reversed String is : \",reverse_string(word))"
   ]
  },
  {
   "cell_type": "markdown",
   "metadata": {},
   "source": [
    "## Q(5.) Write a Python program to count the frequency of each element in a list."
   ]
  },
  {
   "cell_type": "code",
   "execution_count": 14,
   "metadata": {},
   "outputs": [
    {
     "name": "stdout",
     "output_type": "stream",
     "text": [
      "Count the frequency of each element in a list : {10: 1, 5: 1, 8: 1, 2: 4, 30: 1, 40: 1, 7: 5, 77: 1, 9: 8, 999: 1}\n",
      "Highest Frequency : 8\n"
     ]
    }
   ],
   "source": [
    "nums = [10,5,8,2,2,2,2,30,40,7,7,7,7,7,77,9,9,9,9,9,9,9,9,999]\n",
    "\n",
    "def count_frequency(numbers):\n",
    "    frequency = {}\n",
    "    for num in numbers:\n",
    "        if num in frequency:\n",
    "            frequency[num] = frequency[num] + 1\n",
    "        else:\n",
    "            frequency[num] = 1\n",
    "    return frequency\n",
    "\n",
    "print(\"Count the frequency of each element in a list :\",count_frequency(nums))\n",
    "print(\"Highest Frequency :\",max(count_frequency(nums).values()))"
   ]
  },
  {
   "cell_type": "code",
   "execution_count": 16,
   "metadata": {},
   "outputs": [
    {
     "name": "stdout",
     "output_type": "stream",
     "text": [
      "List =  [11, 11, 11, 22, 22]\n"
     ]
    },
    {
     "data": {
      "text/plain": [
       "{11: 3, 22: 2}"
      ]
     },
     "execution_count": 16,
     "metadata": {},
     "output_type": "execute_result"
    }
   ],
   "source": [
    "user_input = input(\"Enter Multiple numbers \")\n",
    "\n",
    "nums = []\n",
    "for i in user_input.split():\n",
    "    nums.append(int(i))\n",
    "print(\"List = \",nums)\n",
    "\n",
    "def count_frequency(numbers):\n",
    "    frequency = {}\n",
    "    for num in numbers:\n",
    "        if num in frequency:\n",
    "            frequency[num] = frequency[num] + 1\n",
    "        else:\n",
    "            frequency[num] = 1\n",
    "    return frequency\n",
    "\n",
    "count_frequency(nums)"
   ]
  },
  {
   "cell_type": "markdown",
   "metadata": {},
   "source": [
    "## Q(6.) Write a Python program to check if a number is prime."
   ]
  },
  {
   "cell_type": "code",
   "execution_count": 17,
   "metadata": {},
   "outputs": [
    {
     "name": "stdout",
     "output_type": "stream",
     "text": [
      "It is not a prime number\n"
     ]
    }
   ],
   "source": [
    "number = int(input(\"Enter any number to check prime number\"))\n",
    "\n",
    "# Handle edge cases for numbers less than 2\n",
    "if number < 2:\n",
    "    print(\"It is not a prime number\")\n",
    "else:\n",
    "    # Check for factors up to the square root of the number\n",
    "    is_prime = True\n",
    "    for i in range(2, int(number**0.5) + 1):\n",
    "        if number % i == 0:\n",
    "            is_prime = False\n",
    "            break\n",
    "    if is_prime:\n",
    "        print(\"It is a prime number\")\n",
    "    else:\n",
    "        print(\"It is not a prime number\")\n"
   ]
  },
  {
   "cell_type": "code",
   "execution_count": 18,
   "metadata": {},
   "outputs": [
    {
     "data": {
      "text/plain": [
       "False"
      ]
     },
     "execution_count": 18,
     "metadata": {},
     "output_type": "execute_result"
    }
   ],
   "source": [
    "def is_prime(number):\n",
    "    if number < 2:\n",
    "        return False\n",
    "    for i in range(2, int(number ** 0.5) + 1):\n",
    "        if number % i == 0:\n",
    "            return False\n",
    "        return True\n",
    "\n",
    "number = int(input(\"Enter a number\"))\n",
    "is_prime(number)"
   ]
  },
  {
   "cell_type": "markdown",
   "metadata": {},
   "source": [
    "## Q(7.) Write a Python program to find the common elements between two lists."
   ]
  },
  {
   "cell_type": "code",
   "execution_count": 19,
   "metadata": {},
   "outputs": [
    {
     "name": "stdout",
     "output_type": "stream",
     "text": [
      "Common Elements between list_a and list_b : [4, 5]\n"
     ]
    }
   ],
   "source": [
    "list_a = [1,2,3,4,5]\n",
    "list_b = [4,5,6,7,8]\n",
    "\n",
    "set_a = set(list_a)\n",
    "set_b = set(list_b)\n",
    "\n",
    "print(\"Common Elements between list_a and list_b :\",list(set_a & set_b))"
   ]
  },
  {
   "cell_type": "code",
   "execution_count": 20,
   "metadata": {},
   "outputs": [
    {
     "data": {
      "text/plain": [
       "[4, 5]"
      ]
     },
     "execution_count": 20,
     "metadata": {},
     "output_type": "execute_result"
    }
   ],
   "source": [
    "list_a = [1,2,3,4,5]\n",
    "list_b = [4,5,6,7,8]\n",
    "\n",
    "def find_common_elements(list1,list2):\n",
    "    commone_elements = []\n",
    "    for item in list1:\n",
    "        if item in list2:\n",
    "            commone_elements.append(item)\n",
    "    return commone_elements\n",
    "\n",
    "find_common_elements(list_a,list_b)"
   ]
  },
  {
   "cell_type": "code",
   "execution_count": 21,
   "metadata": {},
   "outputs": [
    {
     "name": "stdout",
     "output_type": "stream",
     "text": [
      "List =  [11, 11, 11, 22, 22]\n",
      "List =  [11, 11, 11, 22, 22]\n",
      "Common elements:  [11, 11, 11, 22, 22]\n"
     ]
    }
   ],
   "source": [
    "user_input1 = input(\"Enter Multiple numbers: \")\n",
    "list_a = []\n",
    "for i in user_input1.split():\n",
    "    list_a.append(int(i))\n",
    "print(\"List = \", list_a)\n",
    "\n",
    "user_input2 = input(\"Enter Multiple numbers: \")\n",
    "list_b = []\n",
    "for i in user_input2.split():\n",
    "    list_b.append(int(i))\n",
    "print(\"List = \", list_b)\n",
    "\n",
    "def find_common_elements(list1, list2):\n",
    "    common_elements = []\n",
    "    for item in list1:\n",
    "        if item in list2:\n",
    "            common_elements.append(item)\n",
    "    return common_elements\n",
    "\n",
    "common_elements = find_common_elements(list_a, list_b)\n",
    "print(\"Common elements: \", common_elements)\n"
   ]
  },
  {
   "cell_type": "markdown",
   "metadata": {},
   "source": [
    "## Q(8.) Write a Python program to sort a list of elements using the bubble sort algorithm."
   ]
  },
  {
   "cell_type": "code",
   "execution_count": 26,
   "metadata": {},
   "outputs": [
    {
     "name": "stdout",
     "output_type": "stream",
     "text": [
      "[11, 12, 22, 25, 64]\n"
     ]
    }
   ],
   "source": [
    "def bubble_sort(lst):\n",
    "    n = len(lst)\n",
    "    for i in range(n):\n",
    "        # Last i elements are already sorted, so we reduce the range each time\n",
    "        for j in range(0, n-i-1):\n",
    "            if lst[j] > lst[j+1]:\n",
    "                # Swap if the element found is greater than the next element\n",
    "                lst[j], lst[j+1] = lst[j+1], lst[j]\n",
    "\n",
    "# Example usage\n",
    "nums = [64, 25, 12, 22, 11]\n",
    "bubble_sort(nums)\n",
    "print(nums)  # Output: [11, 12, 22, 25, 64]\n"
   ]
  },
  {
   "cell_type": "markdown",
   "metadata": {},
   "source": [
    "## Q(9.) Write a Python program to find the second largest number in a list."
   ]
  },
  {
   "cell_type": "code",
   "execution_count": 22,
   "metadata": {},
   "outputs": [
    {
     "name": "stdout",
     "output_type": "stream",
     "text": [
      "15\n"
     ]
    }
   ],
   "source": [
    "def second_largest(number):\n",
    "    number.sort(reverse=True)  \n",
    "    number.pop(0)\n",
    "    return number[0]  \n",
    "\n",
    "\n",
    "nums = [10, 15, 18, 2, 3]\n",
    "second_largest_number = second_largest(nums)\n",
    "print(second_largest_number)\n"
   ]
  },
  {
   "cell_type": "markdown",
   "metadata": {},
   "source": [
    "## Q(10.) Write a Python program to remove duplicates from a list."
   ]
  },
  {
   "cell_type": "code",
   "execution_count": 23,
   "metadata": {},
   "outputs": [
    {
     "name": "stdout",
     "output_type": "stream",
     "text": [
      "[1, 2, 3, 4, 5]\n"
     ]
    }
   ],
   "source": [
    "def remove_duplicates(numbers):\n",
    "    unique_numbers = []\n",
    "    for num in numbers:\n",
    "        if num not in unique_numbers:\n",
    "            unique_numbers.append(num)\n",
    "    return unique_numbers\n",
    "# Test the function\n",
    "nums = [1, 2, 3, 2, 1, 3, 2, 4, 5, 4]\n",
    "unique_nums = remove_duplicates(nums)\n",
    "print(unique_nums)"
   ]
  },
  {
   "cell_type": "code",
   "execution_count": 24,
   "metadata": {},
   "outputs": [
    {
     "name": "stdout",
     "output_type": "stream",
     "text": [
      "{1, 2, 3, 4, 5}\n"
     ]
    }
   ],
   "source": [
    "def remove_duplicates(lst):\n",
    "    # Using set to remove duplicates and converting back to list\n",
    "    return set(lst)\n",
    "\n",
    "# Example usage\n",
    "my_list = [1, 2, 2, 3, 4, 4, 5]\n",
    "unique_list = remove_duplicates(my_list)\n",
    "print(unique_list)\n"
   ]
  },
  {
   "cell_type": "code",
   "execution_count": 25,
   "metadata": {},
   "outputs": [
    {
     "name": "stdout",
     "output_type": "stream",
     "text": [
      "The End\n"
     ]
    }
   ],
   "source": [
    "print(\"The End\")"
   ]
  }
 ],
 "metadata": {
  "kernelspec": {
   "display_name": "Python 3",
   "language": "python",
   "name": "python3"
  },
  "language_info": {
   "codemirror_mode": {
    "name": "ipython",
    "version": 3
   },
   "file_extension": ".py",
   "mimetype": "text/x-python",
   "name": "python",
   "nbconvert_exporter": "python",
   "pygments_lexer": "ipython3",
   "version": "3.11.11"
  }
 },
 "nbformat": 4,
 "nbformat_minor": 2
}
